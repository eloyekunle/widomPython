{
 "cells": [
  {
   "cell_type": "markdown",
   "metadata": {},
   "source": [
    "### Plotting in Python using matplotlib.pyplot"
   ]
  },
  {
   "cell_type": "code",
   "execution_count": null,
   "metadata": {
    "collapsed": true
   },
   "outputs": [],
   "source": [
    "import csv\n",
    "import numpy as np\n",
    "import matplotlib.pyplot as plt\n",
    "%matplotlib inline"
   ]
  },
  {
   "cell_type": "code",
   "execution_count": null,
   "metadata": {
    "collapsed": true
   },
   "outputs": [],
   "source": [
    "# For compatibility across multiple platforms\n",
    "import os\n",
    "IB = os.environ.get('INSTABASE_URI',None) is not None\n",
    "open = ib.open if IB else open"
   ]
  },
  {
   "cell_type": "code",
   "execution_count": null,
   "metadata": {
    "collapsed": false
   },
   "outputs": [],
   "source": [
    "# Read Cities.csv and Countries.csv into lists of dictionaries\n",
    "cities = []\n",
    "with open('Cities.csv','rU') as f:\n",
    "    rows = csv.DictReader(f)\n",
    "    for r in rows:\n",
    "        cities.append(r)\n",
    "countries = []\n",
    "with open('Countries.csv','rU') as f:\n",
    "    rows = csv.DictReader(f)\n",
    "    for r in rows:\n",
    "        countries.append(r)"
   ]
  },
  {
   "cell_type": "code",
   "execution_count": null,
   "metadata": {
    "collapsed": false
   },
   "outputs": [],
   "source": [
    "# Introduction to scatterplots\n",
    "x = [1, 2, 4, 6, 9]\n",
    "y = [4, 5, 2, 7, 5]\n",
    "plt.scatter(x, y)\n",
    "plt.show()"
   ]
  },
  {
   "cell_type": "code",
   "execution_count": null,
   "metadata": {
    "collapsed": false
   },
   "outputs": [],
   "source": [
    "# Scatterplot of latitude (x) versus temperature (y)\n",
    "x = []\n",
    "y = []\n",
    "for city in cities:\n",
    "    x.append(city['latitude'])\n",
    "    y.append(city['temperature'])\n",
    "plt.xlabel('latitude')\n",
    "plt.ylabel('temperature')\n",
    "plt.scatter(x, y)\n",
    "plt.show()"
   ]
  },
  {
   "cell_type": "code",
   "execution_count": null,
   "metadata": {
    "collapsed": false
   },
   "outputs": [],
   "source": [
    "# Scatterplot of longitude (x) versus latitude (y) colored by temperature\n",
    "x = []\n",
    "y = []\n",
    "colors = []\n",
    "for city in cities:\n",
    "    x.append(city['longitude'])\n",
    "    y.append(city['latitude'])\n",
    "    if float(city['temperature']) < 8:\n",
    "        colors.append('blue')\n",
    "    elif float(city['temperature']) < 12:\n",
    "        colors.append('red')\n",
    "    else: colors.append('yellow')\n",
    "plt.xlabel('longitude')\n",
    "plt.ylabel('latitude')\n",
    "plt.scatter(x, y, c=colors)\n",
    "plt.show()"
   ]
  },
  {
   "cell_type": "code",
   "execution_count": null,
   "metadata": {
    "collapsed": false
   },
   "outputs": [],
   "source": [
    "# Introduction to bar charts\n",
    "bars = ['Bar1', 'Bar2', 'Bar3']\n",
    "heights = [2, 6, 4]\n",
    "plt.xticks([1,2,3], bars)\n",
    "plt.bar([1,2,3], heights, align='center')\n",
    "plt.show()"
   ]
  },
  {
   "cell_type": "code",
   "execution_count": null,
   "metadata": {
    "collapsed": false
   },
   "outputs": [],
   "source": [
    "# Bar chart showing populations of countries with 'ia' in their name\n",
    "bars = [] # countries with 'ia' in their name\n",
    "heights = [] # population of those countries\n",
    "for country in countries:\n",
    "    if 'ia' in country['country']:\n",
    "        bars.append(country['country'])\n",
    "        heights.append(country['population'])\n",
    "numbars = len(bars)\n",
    "# range(numbars) in following command yields [0,1,...,numbars-1]\n",
    "plt.xticks(range(numbars), bars, rotation='vertical')\n",
    "plt.bar(range(numbars), heights, align='center')\n",
    "plt.xlabel('country')\n",
    "plt.ylabel('population')\n",
    "plt.show()"
   ]
  },
  {
   "cell_type": "code",
   "execution_count": null,
   "metadata": {
    "collapsed": false
   },
   "outputs": [],
   "source": [
    "# Introduction to pie charts\n",
    "sizes = [10, 20, 30]\n",
    "lbls = ['small', 'medium', 'large']\n",
    "plt.pie(sizes, labels=lbls, autopct='%1.1f%%')\n",
    "plt.show()"
   ]
  },
  {
   "cell_type": "code",
   "execution_count": null,
   "metadata": {
    "collapsed": false
   },
   "outputs": [],
   "source": [
    "# Pie chart showing number of EU countries versus non-EU countries\n",
    "numEU = 0\n",
    "numNotEU = 0\n",
    "for country in countries:\n",
    "    if country['EU'] == 'yes':\n",
    "        numEU += 1\n",
    "    else:\n",
    "        numNotEU +=1\n",
    "sizes = [numEU, numNotEU]\n",
    "lbls = ['EU', 'not EU']\n",
    "plt.pie(sizes, labels=lbls, autopct='%1.1f%%')\n",
    "plt.show()"
   ]
  },
  {
   "cell_type": "markdown",
   "metadata": {
    "collapsed": true
   },
   "source": [
    "### <font color=\"green\">Your Turn: World Cup Data</font>"
   ]
  },
  {
   "cell_type": "code",
   "execution_count": null,
   "metadata": {
    "collapsed": false
   },
   "outputs": [],
   "source": [
    "# Read Players.csv and Teams.csv into lists of dictionaries\n",
    "players = []\n",
    "with open('Players.csv','rU') as f:\n",
    "    rows = csv.DictReader(f)\n",
    "    for r in rows:\n",
    "        players.append(r)\n",
    "teams = []\n",
    "with open('Teams.csv','rU') as f:\n",
    "    rows = csv.DictReader(f)\n",
    "    for r in rows:\n",
    "        teams.append(r)"
   ]
  },
  {
   "cell_type": "code",
   "execution_count": null,
   "metadata": {
    "collapsed": false
   },
   "outputs": [],
   "source": [
    "# Create a scatterplot of players showing minutes played (x-axis)\n",
    "# versus passes made (y-axis). Color each player based on their\n",
    "# position (goalkeeper, defender, midfielder, forward).\n",
    "# Hint: remember copy-paste-modify approach to programming!"
   ]
  },
  {
   "cell_type": "code",
   "execution_count": null,
   "metadata": {
    "collapsed": false
   },
   "outputs": [],
   "source": [
    "# Create a bar chart showing the number of teams with 0, 1, and 2 red cards.\n",
    "# Reminder: redCards is a string, so convert or compare accordingly\n",
    "bars = ['zero', 'one', 'two'] # number of red cards\n",
    "heights = [0, 0, 0] # number of teams with zero/one/two red cards\n",
    "# your code here"
   ]
  },
  {
   "cell_type": "code",
   "execution_count": null,
   "metadata": {
    "collapsed": false
   },
   "outputs": [],
   "source": [
    "# Create a pie chart showing the relative percentage of teams\n",
    "# with 0, 1, and 2 red cards.\n",
    "# Reminder: redCards is a string, so convert or compare accordingly"
   ]
  },
  {
   "cell_type": "code",
   "execution_count": null,
   "metadata": {
    "collapsed": false
   },
   "outputs": [],
   "source": [
    "# BONUS!\n",
    "# Write a loop that interactively asks the user to enter a team name.\n",
    "# If the team exists, create a pie chart showing how many players the team\n",
    "# has in each of the four positions.\n",
    "# If the team doesn't exist, print \"Team not in 2010 World Cup\".\n",
    "# If 'quit' is entered, terminate the loop.\n",
    "# Note: To read a string from the user instead of a number, use\n",
    "# raw_input() instead of input()"
   ]
  }
 ],
 "metadata": {
  "kernelspec": {
   "display_name": "Python 2",
   "language": "python",
   "name": "python2"
  },
  "language_info": {
   "codemirror_mode": {
    "name": "ipython",
    "version": 2
   },
   "file_extension": ".py",
   "mimetype": "text/x-python",
   "name": "python",
   "nbconvert_exporter": "python",
   "pygments_lexer": "ipython2",
   "version": "2.7.12"
  }
 },
 "nbformat": 4,
 "nbformat_minor": 0
}
