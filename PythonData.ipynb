{
 "cells": [
  {
   "cell_type": "markdown",
   "metadata": {},
   "source": [
    "### Data Manipulation in Python"
   ]
  },
  {
   "cell_type": "markdown",
   "metadata": {},
   "source": [
    "### Reading data from CSV files using csv package"
   ]
  },
  {
   "cell_type": "code",
   "execution_count": null,
   "metadata": {
    "collapsed": true
   },
   "outputs": [],
   "source": [
    "import csv"
   ]
  },
  {
   "cell_type": "code",
   "execution_count": null,
   "metadata": {
    "collapsed": true
   },
   "outputs": [],
   "source": [
    "# For compatibility across multiple platforms\n",
    "import os\n",
    "IB = os.environ.get('INSTABASE_URI',None) is not None\n",
    "open = ib.open if IB else open"
   ]
  },
  {
   "cell_type": "code",
   "execution_count": null,
   "metadata": {},
   "outputs": [],
   "source": [
    "# Read Cities.csv data into default list format and print all rows\n",
    "# Make sure data file is in same folder as notebook\n",
    "# Note all values are read as strings\n",
    "with open('Cities.csv','rU') as f:\n",
    "    rows = csv.reader(f)\n",
    "    for r in rows:\n",
    "        print r"
   ]
  },
  {
   "cell_type": "code",
   "execution_count": null,
   "metadata": {},
   "outputs": [],
   "source": [
    "# Same as previous except use dictionary format\n",
    "with open('Cities.csv','rU') as f:\n",
    "    rows = csv.DictReader(f)\n",
    "    for r in rows:\n",
    "        print r"
   ]
  },
  {
   "cell_type": "code",
   "execution_count": null,
   "metadata": {},
   "outputs": [],
   "source": [
    "# Print the city and longitude of all cities with longitude < 0\n",
    "# Use dictionary format\n",
    "with open('Cities.csv','rU') as f:\n",
    "    rows = csv.DictReader(f)\n",
    "    for r in rows:\n",
    "        if float(r['longitude']) < 0:\n",
    "            print r['city'], r['longitude']\n",
    "# Show what happens without float()"
   ]
  },
  {
   "cell_type": "code",
   "execution_count": null,
   "metadata": {},
   "outputs": [],
   "source": [
    "# Same but using list format\n",
    "with open('Cities.csv','rU') as f:\n",
    "    rows = csv.reader(f)\n",
    "    next(rows) # discard header row\n",
    "    for r in rows:\n",
    "        if float(r[3]) < 0:\n",
    "            print r[0], r[3]\n",
    "# Show what happens without next(rows)"
   ]
  },
  {
   "cell_type": "markdown",
   "metadata": {},
   "source": [
    "### <font color=\"green\">Your Turn</font>"
   ]
  },
  {
   "cell_type": "code",
   "execution_count": null,
   "metadata": {},
   "outputs": [],
   "source": [
    "# Using Countries.csv and reading in dictionary format, find\n",
    "# all countries that have coastline and are not in the EU.\n",
    "# Print the countries and their populations.\n",
    "# Hint: The copy-paste-modify approach to programming\n",
    "# is highly recommended!\n",
    "#\n",
    "YOUR CODE HERE"
   ]
  },
  {
   "cell_type": "markdown",
   "metadata": {},
   "source": [
    "### Reading data into Python data structures"
   ]
  },
  {
   "cell_type": "code",
   "execution_count": null,
   "metadata": {},
   "outputs": [],
   "source": [
    "# Read Cities.csv data into list of dictionaries\n",
    "cities = []\n",
    "with open('Cities.csv','rU') as f:\n",
    "    rows = csv.DictReader(f)\n",
    "    for r in rows:\n",
    "        cities.append(r)\n",
    "    print cities"
   ]
  },
  {
   "cell_type": "code",
   "execution_count": null,
   "metadata": {},
   "outputs": [],
   "source": [
    "# Print the city and longitude of all cities with longitude < 0\n",
    "for city in cities:\n",
    "    if float(city['longitude']) < 0:\n",
    "        print city['city'], city['longitude']"
   ]
  },
  {
   "cell_type": "code",
   "execution_count": null,
   "metadata": {},
   "outputs": [],
   "source": [
    "# Print each city and whether in EU\n",
    "# Must join cities with countries\n",
    "# First read Countries.csv data int list of dictionaries\n",
    "countries = []\n",
    "with open('Countries.csv','rU') as f:\n",
    "    rows = csv.DictReader(f)\n",
    "    for r in rows:\n",
    "        countries.append(r)\n",
    "print countries"
   ]
  },
  {
   "cell_type": "code",
   "execution_count": null,
   "metadata": {},
   "outputs": [],
   "source": [
    "# Now perform join\n",
    "for city in cities:\n",
    "    for country in countries:\n",
    "        if city['country'] == country['country']:\n",
    "            print city['city'], country['EU']\n",
    "# add 'break' command to for-loop"
   ]
  },
  {
   "cell_type": "code",
   "execution_count": null,
   "metadata": {},
   "outputs": [],
   "source": [
    "# Compute overall average city temperature\n",
    "temps = [] # create list of all temperatures\n",
    "with open('Cities.csv','rU') as f:\n",
    "    rows = csv.DictReader(f)\n",
    "    for r in rows:\n",
    "        temps.append(float(r['temperature'])) \n",
    "print sum(temps)/len(temps)"
   ]
  },
  {
   "cell_type": "markdown",
   "metadata": {},
   "source": [
    "### Computing average directly using NumPy package"
   ]
  },
  {
   "cell_type": "code",
   "execution_count": null,
   "metadata": {},
   "outputs": [],
   "source": [
    "import numpy as np"
   ]
  },
  {
   "cell_type": "code",
   "execution_count": null,
   "metadata": {},
   "outputs": [],
   "source": [
    "# Compute overall average city temperature - now using np.average\n",
    "temps = [] # create list of all temperatures\n",
    "with open('Cities.csv','rU') as f:\n",
    "    rows = csv.DictReader(f)\n",
    "    for r in rows:\n",
    "        temps.append(float(r['temperature'])) \n",
    "print np.average(temps)"
   ]
  },
  {
   "cell_type": "code",
   "execution_count": null,
   "metadata": {},
   "outputs": [],
   "source": [
    "# Compute average city temperature for each country\n",
    "countrylist = [] # list of countries in cities data\n",
    "for city in cities:\n",
    "    if city['country'] not in countrylist:\n",
    "        countrylist.append(city['country'])\n",
    "# print countrylist\n",
    "for country in countrylist:\n",
    "    temps = []\n",
    "    for city in cities:\n",
    "        if city['country'] == country:\n",
    "            temps.append(float(city['temperature']))\n",
    "    print country, np.average(temps)"
   ]
  },
  {
   "cell_type": "markdown",
   "metadata": {},
   "source": [
    "### <font color=\"green\">Your Turn</font>"
   ]
  },
  {
   "cell_type": "code",
   "execution_count": null,
   "metadata": {
    "scrolled": true
   },
   "outputs": [],
   "source": [
    "# Determine the average temperature for EU cities and the average\n",
    "# temperature for non-EU cities, before and after \"Brexit\". That is,\n",
    "# for one pair of averages assume the United Kingdom is in the EU,\n",
    "# and for the other pair assume the United Kingdom is not in the EU.\n",
    "# Print the four numbers and make sure to label which is which!\n",
    "# Initial code is provided to reload cities and countries lists:\n",
    "cities = []\n",
    "with open('Cities.csv','rU') as f:\n",
    "    rows = csv.DictReader(f)\n",
    "    for r in rows:\n",
    "        cities.append(r)\n",
    "countries = []\n",
    "with open('Countries.csv','rU') as f:\n",
    "    rows = csv.DictReader(f)\n",
    "    for r in rows:\n",
    "        countries.append(r)\n",
    "# Recommended data structures:\n",
    "UK = [] # temperatures of cities in the United Kingdom\n",
    "EU = [] # temperatures of cities in an EU country other than the United Kingdom\n",
    "nonEU = [] # temperatures of cities in a non-EU country other than the UK\n",
    "# Hint: Start with code in earlier example for joining cities and countries\n",
    "# Hint: Remember you can combine two lists using \"+\"\n",
    "# Less than 10 lines of code are needed, not counting printing\n",
    "YOUR CODE HERE"
   ]
  },
  {
   "cell_type": "markdown",
   "metadata": {},
   "source": [
    "### Minimum and maximum"
   ]
  },
  {
   "cell_type": "code",
   "execution_count": null,
   "metadata": {},
   "outputs": [],
   "source": [
    "# Overall minimum and maximum temperatures\n",
    "temps = [] # create list of all temperatures\n",
    "with open('Cities.csv','rU') as f:\n",
    "    rows = csv.DictReader(f)\n",
    "    for r in rows:\n",
    "        temps.append(float(r['temperature']))\n",
    "print 'Minimum:', min(temps)\n",
    "print 'Maximum:', max(temps)"
   ]
  },
  {
   "cell_type": "code",
   "execution_count": null,
   "metadata": {},
   "outputs": [],
   "source": [
    "# Alternative method\n",
    "minval = 100.00 # greater than any possible minimum\n",
    "maxval = -100.00 # smaller than any possible maximum\n",
    "for city in cities:\n",
    "    if float(city['temperature']) < minval:\n",
    "        minval = float(city['temperature'])\n",
    "    if float(city['temperature']) > maxval:\n",
    "        maxval = float(city['temperature'])\n",
    "print 'Minimum:', minval\n",
    "print 'Maximum:', maxval"
   ]
  },
  {
   "cell_type": "markdown",
   "metadata": {},
   "source": [
    "### <font color=\"green\">Your Turn</font>"
   ]
  },
  {
   "cell_type": "code",
   "execution_count": null,
   "metadata": {
    "scrolled": true
   },
   "outputs": [],
   "source": [
    "# Determine which country has the lowest average city temperature\n",
    "# and which country has the highest average city temperature.\n",
    "# Print the two countries and their average temperatures.\n",
    "# Hint: Start with code above that computes average temperatures\n",
    "# for each country, then incorporate the running min/max method.\n",
    "#\n",
    "YOUR CODE HERE"
   ]
  },
  {
   "cell_type": "markdown",
   "metadata": {},
   "source": [
    "### <font color=\"green\">Your Turn: World Cup Data</font>"
   ]
  },
  {
   "cell_type": "code",
   "execution_count": null,
   "metadata": {},
   "outputs": [],
   "source": [
    "# What player on a team with “ia” in the team name played less than\n",
    "# 200 minutes and made more than 100 passes? Print the player surname.\n",
    "# Note: In Python, use \"'abc' in s\" to check whether string s contains'abc'\n",
    "# Reminder: Convert minutes and passes to integers before comparing to values"
   ]
  },
  {
   "cell_type": "code",
   "execution_count": null,
   "metadata": {},
   "outputs": [],
   "source": [
    "# What is the average number of passes made by forwards? By midfielders?"
   ]
  },
  {
   "cell_type": "code",
   "execution_count": null,
   "metadata": {},
   "outputs": [],
   "source": [
    "# Which team has the highest ratio of goalsFor to goalsAgainst?\n",
    "# Print the team only.\n",
    "# Reminder: Use float() to make sure you're doing floating point division\n",
    "# Hint: Use two variables to keep track of highest ratio seen so far\n",
    "# and team with that ratio:\n",
    "ratio = 0 # highest ratio seen so far\n",
    "team = '' # team with highest ratio"
   ]
  },
  {
   "cell_type": "code",
   "execution_count": null,
   "metadata": {},
   "outputs": [],
   "source": [
    "# How many players who play on a team with ranking <10 played\n",
    "# more than 350 minutes?\n",
    "# Reminder: Convert ranking and minutes to integers before comparing to values\n",
    "# Hint: Compute join of Players and Teams, using a variable to count number of\n",
    "# players satisfying requirement"
   ]
  },
  {
   "cell_type": "code",
   "execution_count": null,
   "metadata": {},
   "outputs": [],
   "source": [
    "# BONUS!\n",
    "# Write a loop that interactively asks the user to enter a team name.\n",
    "# If the team exists, print how many games the team played, how many\n",
    "# yellow cards and red cards the team had, and the average number of\n",
    "# minutes played by players on that team.\n",
    "# If the team doesn't exist, print \"Team not in 2010 World Cup\".\n",
    "# If 'quit' is entered, terminate the loop.\n",
    "# Note: To read a string from the user instead of a number, use\n",
    "# raw_input() instead of input()"
   ]
  }
 ],
 "metadata": {
  "kernelspec": {
   "display_name": "Python 2",
   "language": "python",
   "name": "python2"
  },
  "language_info": {
   "codemirror_mode": {
    "name": "ipython",
    "version": 2
   },
   "file_extension": ".py",
   "mimetype": "text/x-python",
   "name": "python",
   "nbconvert_exporter": "python",
   "pygments_lexer": "ipython2",
   "version": "2.7.13"
  }
 },
 "nbformat": 4,
 "nbformat_minor": 1
}
